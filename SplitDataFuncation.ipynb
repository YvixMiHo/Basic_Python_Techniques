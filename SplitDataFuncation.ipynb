{
  "nbformat": 4,
  "nbformat_minor": 0,
  "metadata": {
    "colab": {
      "name": "SplitDataFuncation.ipynb",
      "provenance": [],
      "authorship_tag": "ABX9TyNeFnAOj0GOYSTEM7JKuV8f",
      "include_colab_link": true
    },
    "kernelspec": {
      "name": "python3",
      "display_name": "Python 3"
    },
    "language_info": {
      "name": "python"
    }
  },
  "cells": [
    {
      "cell_type": "markdown",
      "metadata": {
        "id": "view-in-github",
        "colab_type": "text"
      },
      "source": [
        "<a href=\"https://colab.research.google.com/github/YvixMiHo/Basic_Python_Techniques/blob/main/SplitDataFuncation.ipynb\" target=\"_parent\"><img src=\"https://colab.research.google.com/assets/colab-badge.svg\" alt=\"Open In Colab\"/></a>"
      ]
    },
    {
      "cell_type": "markdown",
      "source": [
        "This function is to be used as a reference. i.e. if needing to utilize splitting in a problem re-purpose this code as necessary to split"
      ],
      "metadata": {
        "id": "MHHcMnISYbHT"
      }
    },
    {
      "cell_type": "code",
      "execution_count": null,
      "metadata": {
        "id": "qLZMP3UxYQuH"
      },
      "outputs": [],
      "source": [
        "def split_data(SOURCE_DIR, TRAINING_DIR, VALIDATION_DIR, SPLIT_SIZE):\n",
        "  \"\"\" source dir, training dir,validation dir, and a split size  \n",
        "  data and returns training, test sentences and labels \"\"\"\n",
        "  file_storage = []\n",
        "  for filename in os.listdir(SOURCE_DIR):\n",
        "    file_target = SOURCE_DIR + filename\n",
        "    if(os.path.getsize(file_target)>0):\n",
        "      file_storage.append(filename)\n",
        "    else:\n",
        "      print(filename + \"is zero length, so ignoring\")\n",
        "  \n",
        "  random_set = random.sample(file_storage,len(file_storage)) \n",
        "\n",
        "  train_data = random_set[:int(SPLIT_SIZE*len(file_storage))]\n",
        "  test_data = random_set[int(SPLIT_SIZE*len(file_storage)):]\n",
        "\n",
        "  for filename in train_data:\n",
        "    copyfile(SOURCE_DIR+filename,TRAINING_DIR+filename)\n",
        "  for filename in test_data:\n",
        "    copyfile(SOURCE_DIR+filename,VALIDATION_DIR+filename)\n",
        "\n",
        "  pass"
      ]
    },
    {
      "cell_type": "code",
      "source": [
        "def split_data(input_data, length, split_size):\n",
        "    \"\"\" splits data and returns training, test sentences and labels \"\"\"\n",
        "    train_size = int(split_size * length)\n",
        "\n",
        "    train_data = input_data[:train_size]\n",
        "    test_data = input_data[train_size:]\n",
        "\n",
        "    train_sentences = train_data.text.to_numpy()\n",
        "    train_labels = train_data.target.to_numpy()\n",
        "\n",
        "    test_sentences = test_data.text.to_numpy()\n",
        "    test_labels = test_data.target.to_numpy()\n",
        "\n",
        "    return train_sentences, train_labels, test_sentences, test_labels"
      ],
      "metadata": {
        "id": "8mgYNDuJYu6U"
      },
      "execution_count": null,
      "outputs": []
    }
  ]
}